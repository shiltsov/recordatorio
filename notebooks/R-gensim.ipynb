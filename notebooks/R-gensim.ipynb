{
 "cells": [
  {
   "cell_type": "markdown",
   "id": "6b8583df",
   "metadata": {},
   "source": [
    "# Краткая шпаргалка по gensim\n",
    "\n",
    "### Что в ней вообще есть\n",
    "\n",
    "1. Word2Vec, FastText, и Doc2Vec\n",
    "2. Тематическое моделирование (Topic Modeling). Поддержка LDA (Latent Dirichlet Allocation) и LSI (Latent Semantic Indexing) для извлечения тематической структуры текстов\n",
    "3. Поддержка LDA (Latent Dirichlet Allocation) и LSI (Latent Semantic Indexing) для извлечения тематической структуры текстов"
   ]
  },
  {
   "cell_type": "markdown",
   "id": "d58778e1",
   "metadata": {},
   "source": [
    "пусть есть очищенный текст **war_and_peace_cleaned.txt** - без знаков препинания, все в нижнем регистре, предложения - по строкам"
   ]
  },
  {
   "cell_type": "code",
   "execution_count": 6,
   "id": "d57fee83",
   "metadata": {},
   "outputs": [],
   "source": [
    "from gensim.models import FastText\n",
    "from gensim.models.word2vec import PathLineSentences\n"
   ]
  },
  {
   "cell_type": "code",
   "execution_count": 7,
   "id": "1df3a8c7",
   "metadata": {},
   "outputs": [
    {
     "name": "stdout",
     "output_type": "stream",
     "text": [
      "well prince so genoa and lucca are now just family estates of the buonapartes\r\n",
      "but i warn you if you don't tell me that this means war if you still try to defend the infamies and horrors perpetrated by that antichrist i really believe he is antichrist i will have nothing more to do with you and you are no longer my friend no longer my faithful slave as you call yourself\r\n",
      "but how do you do\r\n",
      "i see i have frightened you sit down and tell me all the news\r\n"
     ]
    }
   ],
   "source": [
    "!sed -n 1,4p war_and_peace_cleaned.txt"
   ]
  },
  {
   "cell_type": "code",
   "execution_count": 8,
   "id": "2a93a9da",
   "metadata": {},
   "outputs": [],
   "source": [
    "wap_cleaned_file_path = 'war_and_peace_cleaned.txt'"
   ]
  },
  {
   "cell_type": "code",
   "execution_count": 12,
   "id": "f9fc57b0",
   "metadata": {},
   "outputs": [],
   "source": [
    "# забирает из файла строки и бьет их на слова, объединяя в массив\n",
    "wap_sentences = PathLineSentences(wap_cleaned_file_path)"
   ]
  },
  {
   "cell_type": "code",
   "execution_count": 11,
   "id": "c429d7d1",
   "metadata": {},
   "outputs": [
    {
     "name": "stdout",
     "output_type": "stream",
     "text": [
      "['well', 'prince', 'so', 'genoa', 'and', 'lucca', 'are', 'now', 'just', 'family', 'estates', 'of', 'the', 'buonapartes']\n"
     ]
    }
   ],
   "source": [
    "for sentence in wap_sentences:\n",
    "    print(sentence)\n",
    "    break"
   ]
  },
  {
   "cell_type": "markdown",
   "id": "65dc8ad6",
   "metadata": {},
   "source": [
    "## FastText"
   ]
  },
  {
   "cell_type": "code",
   "execution_count": 13,
   "id": "90746406",
   "metadata": {},
   "outputs": [],
   "source": [
    "# создает эмбеддинги по методу FastText\n",
    "model = FastText(\n",
    "        wap_sentences,\n",
    "        vector_size=100, # размерность эмбеддинга\n",
    "        window=5,        # размер окна\n",
    "        alpha=3e-2,      # лёнин рейт\n",
    "        sg=1,            # skip-gram\n",
    "        epochs=5,        # число эпох\n",
    "        seed=42,\n",
    "    )\n",
    "\n",
    "model.save(\"wap_fasttext_model.bin\")"
   ]
  },
  {
   "cell_type": "markdown",
   "id": "11579f4f",
   "metadata": {},
   "source": [
    "#### в  model.wv теперь все самое интересное и там много всего"
   ]
  },
  {
   "cell_type": "code",
   "execution_count": 15,
   "id": "b671d9f1",
   "metadata": {},
   "outputs": [
    {
     "name": "stdout",
     "output_type": "stream",
     "text": [
      "('secrecy', 0.8793855905532837)\n",
      "('freedom', 0.8735875487327576)\n",
      "('oblige', 0.8726655840873718)\n",
      "('faith', 0.8702014088630676)\n",
      "('problem', 0.8701443076133728)\n",
      "('profit', 0.868318498134613)\n",
      "('hope', 0.8669522404670715)\n",
      "('religion', 0.8630445003509521)\n",
      "('success', 0.8623485565185547)\n",
      "('secret', 0.8611157536506653)\n"
     ]
    }
   ],
   "source": [
    "# 10 самых близких слов\n",
    "print(*model.wv.most_similar('peace', topn=10), sep='\\n')"
   ]
  },
  {
   "cell_type": "code",
   "execution_count": 24,
   "id": "2613d087",
   "metadata": {
    "scrolled": false
   },
   "outputs": [
    {
     "name": "stdout",
     "output_type": "stream",
     "text": [
      "578\n",
      "calm\n",
      "True\n"
     ]
    }
   ],
   "source": [
    "# токены и их индексы в массиве\n",
    "print(model.wv.key_to_index['peace'])\n",
    "print(model.wv.index_to_key[700])\n",
    "print('light' in model.wv.key_to_index)"
   ]
  },
  {
   "cell_type": "code",
   "execution_count": null,
   "id": "0ad9ecd3",
   "metadata": {},
   "outputs": [],
   "source": []
  }
 ],
 "metadata": {
  "kernelspec": {
   "display_name": "Python 3 (ipykernel)",
   "language": "python",
   "name": "python3"
  },
  "language_info": {
   "codemirror_mode": {
    "name": "ipython",
    "version": 3
   },
   "file_extension": ".py",
   "mimetype": "text/x-python",
   "name": "python",
   "nbconvert_exporter": "python",
   "pygments_lexer": "ipython3",
   "version": "3.12.5"
  }
 },
 "nbformat": 4,
 "nbformat_minor": 5
}
